{
 "cells": [
  {
   "cell_type": "markdown",
   "metadata": {},
   "source": [
    "# Traffic Sign Classification with Tensorflow\n"
   ]
  },
  {
   "cell_type": "markdown",
   "metadata": {},
   "source": [
    "## Step 0: Load Image Dataset"
   ]
  },
  {
   "cell_type": "code",
   "execution_count": 7,
   "metadata": {
    "collapsed": false
   },
   "outputs": [
    {
     "name": "stdout",
     "output_type": "stream",
     "text": [
      "Filenames in data container: \n",
      "\n",
      "test.p\n",
      "train.p\n",
      "valid.p\n"
     ]
    }
   ],
   "source": [
    "import pickle\n",
    "import os\n",
    "from tqdm import tqdm\n",
    "from zipfile import ZipFile\n",
    "\n",
    "# Define variables\n",
    "setnames = []\n",
    "data     = dict()\n",
    "X        = dict()\n",
    "y        = dict()\n",
    "\n",
    "path = \"/home/tiwi/Documents/mldata/\"\n",
    "file = \"traffic-signs-data.zip\"\n",
    "\n",
    "\n",
    "print(\"Filenames in data container: \\n\")\n",
    "for filename in ZipFile(path+file).namelist():\n",
    "    print(filename)\n",
    "    # Create setnames from filenames: e.g. \"train\", \"test\", ...\n",
    "    setnames.append(os.path.split(filename)[1].rpartition('.')[0])\n",
    "    # Get full path + file for each pickle file\n",
    "    with open(path + file.rpartition('.')[0] + '/' + filename, mode='rb') as f:\n",
    "        data[setnames[-1]] = pickle.load(f)\n",
    "        \n",
    "for setname in setnames:\n",
    "    X[setname], y[setname] = data[setname]['features'], data[setname]['labels']\n",
    "        "
   ]
  },
  {
   "cell_type": "code",
   "execution_count": null,
   "metadata": {
    "collapsed": true
   },
   "outputs": [],
   "source": []
  }
 ],
 "metadata": {
  "kernelspec": {
   "display_name": "Python 3",
   "language": "python",
   "name": "python3"
  },
  "language_info": {
   "codemirror_mode": {
    "name": "ipython",
    "version": 3
   },
   "file_extension": ".py",
   "mimetype": "text/x-python",
   "name": "python",
   "nbconvert_exporter": "python",
   "pygments_lexer": "ipython3",
   "version": "3.6.0"
  }
 },
 "nbformat": 4,
 "nbformat_minor": 2
}
